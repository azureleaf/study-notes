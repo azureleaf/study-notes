{
 "cells": [
  {
   "cell_type": "code",
   "execution_count": 3,
   "metadata": {},
   "outputs": [
    {
     "name": "stdout",
     "output_type": "stream",
     "text": [
      "Defaulting to user installation because normal site-packages is not writeable\n",
      "Collecting pandas\n",
      "  Downloading pandas-1.1.2-cp36-cp36m-manylinux1_x86_64.whl (10.5 MB)\n",
      "\u001b[K     |████████████████████████████████| 10.5 MB 2.4 MB/s eta 0:00:01    |▊                               | 225 kB 2.4 MB/s eta 0:00:05\n",
      "\u001b[?25hRequirement already satisfied: pytz>=2017.2 in /usr/lib/python3/dist-packages (from pandas) (2018.3)\n",
      "Collecting python-dateutil>=2.7.3\n",
      "  Using cached python_dateutil-2.8.1-py2.py3-none-any.whl (227 kB)\n",
      "Collecting numpy>=1.15.4\n",
      "  Downloading numpy-1.19.2-cp36-cp36m-manylinux2010_x86_64.whl (14.5 MB)\n",
      "\u001b[K     |████████████████████████████████| 14.5 MB 45.7 MB/s eta 0:00:01\n",
      "\u001b[?25hRequirement already satisfied: six>=1.5 in /home/akb/.local/lib/python3.6/site-packages (from python-dateutil>=2.7.3->pandas) (1.14.0)\n",
      "Installing collected packages: python-dateutil, numpy, pandas\n",
      "Successfully installed numpy-1.19.2 pandas-1.1.2 python-dateutil-2.8.1\n"
     ]
    }
   ],
   "source": [
    "import sys\n",
    "!{sys.executable} -m pip install pandas"
   ]
  },
  {
   "cell_type": "markdown",
   "metadata": {},
   "source": [
<<<<<<< HEAD
    "## Indexing"
=======
    "# Create"
>>>>>>> cb7e429a6c09207e3b27de1e2d5d65b1f4cdfc52
   ]
  },
  {
   "cell_type": "code",
<<<<<<< HEAD
   "execution_count": 22,
=======
   "execution_count": 13,
>>>>>>> cb7e429a6c09207e3b27de1e2d5d65b1f4cdfc52
   "metadata": {},
   "outputs": [
    {
     "name": "stdout",
     "output_type": "stream",
     "text": [
<<<<<<< HEAD
      "\n",
      "Dataframe:\n",
      "       country  language\n",
      "0        Japan  Japanese\n",
      "1  North Korea    Korean\n",
      "2  South Korea    Korean\n",
      "3        China  Mandarin\n",
      "\n",
      "Country which name is North Korea\n",
      "       country language\n",
      "1  North Korea   Korean\n",
      "\n",
      "Countries where Korean is spoken:\n",
      "       country language\n",
      "1  North Korea   Korean\n",
      "2  South Korea   Korean\n"
=======
      "  country  capital\n",
      "0   japan    tokyo\n",
      "1   china  beijing\n",
      "2   korea    korea \n",
      "\n",
      "  country  capital\n",
      "0   japan    tokyo\n",
      "1   china  beijing\n",
      "2   korea    seoul \n",
      "\n",
      "japan      tokyo\n",
      "china    beijing\n",
      "korea      seoul\n",
      "dtype: object \n",
      "\n"
>>>>>>> cb7e429a6c09207e3b27de1e2d5d65b1f4cdfc52
     ]
    }
   ],
   "source": [
    "import pandas as pd\n",
    "\n",
<<<<<<< HEAD
    "df = pd.DataFrame({'country': ['Japan', 'North Korea', 'South Korea', 'China'], 'language': [\"Japanese\", \"Korean\", \"Korean\", 'Mandarin']})\n",
    "\n",
    "print(\"\\nDataframe:\")\n",
    "print(df)\n",
    "\n",
    "print(\"\\nCountry which name is North Korea\")\n",
    "print(df[ df['country'] == 'North Korea'])\n",
    "\n",
    "print(\"\\nCountries where Korean is spoken:\")\n",
    "print(df[ df['language'] == 'Korean'])\n"
=======
    "# dict to df\n",
    "df1 = pd.DataFrame({'country': ['japan', 'china', 'korea', ], 'capital': [\"tokyo\", \"beijing\", \"korea\"]})\n",
    "print(df1, \"\\n\")\n",
    "\n",
    "# matrix to df\n",
    "my_arr = [[\"japan\", \"tokyo\"], [\"china\", \"beijing\"], [\"korea\", \"seoul\"]]\n",
    "df2 = pd.DataFrame(my_arr, columns=[\"country\", \"capital\"])\n",
    "print(df2, \"\\n\")\n",
    "\n",
    "# series to df\n",
    "my_dict = { \"japan\": \"tokyo\", \"china\": \"beijing\", \"korea\": \"seoul\" }\n",
    "ser = pd.Series(my_dict)\n",
    "print(ser, \"\\n\")\n",
    "\n"
>>>>>>> cb7e429a6c09207e3b27de1e2d5d65b1f4cdfc52
   ]
  },
  {
   "cell_type": "markdown",
   "metadata": {},
   "source": [
<<<<<<< HEAD
    "## Groupby"
=======
    "# Group"
>>>>>>> cb7e429a6c09207e3b27de1e2d5d65b1f4cdfc52
   ]
  },
  {
   "cell_type": "code",
   "execution_count": 2,
   "metadata": {},
   "outputs": [
    {
     "name": "stdout",
     "output_type": "stream",
     "text": [
      "\n",
      "Original DF:\n",
      "   X  Y\n",
      "0  A  1\n",
      "1  B  4\n",
      "2  A  3\n",
      "3  B  2\n",
      "\n",
      "Sum:\n",
      "   Y\n",
      "X   \n",
      "A  4\n",
      "B  6\n",
      "\n",
      "Group A:\n",
      "   X  Y\n",
      "0  A  1\n",
      "2  A  3\n",
      "\n",
      "Group B:\n",
      "   X  Y\n",
      "1  B  4\n",
      "3  B  2\n"
     ]
    }
   ],
   "source": [
    "import pandas as pd\n",
    "\n",
    "df = pd.DataFrame({'X': ['A', 'B', 'A', 'B'], 'Y': [1, 4, 3, 2]})\n",
    "print(\"\\nOriginal DF:\")\n",
    "print(df)\n",
    "\n",
    "grouped = df.groupby('X')\n",
    "\n",
    "print(\"\\nSum:\")\n",
    "print(grouped.sum())\n",
    "\n",
    "# iteration\n",
    "for name, group in grouped:\n",
    "    print(\"\\nGroup\", name + \":\")\n",
    "    print(group)"
   ]
  },
  {
   "cell_type": "markdown",
   "metadata": {},
   "source": [
<<<<<<< HEAD
    "## Multi-indexing"
   ]
  },
  {
   "cell_type": "code",
   "execution_count": 11,
   "metadata": {},
   "outputs": [
    {
     "data": {
      "text/html": [
       "<div>\n",
       "<style scoped>\n",
       "    .dataframe tbody tr th:only-of-type {\n",
       "        vertical-align: middle;\n",
       "    }\n",
       "\n",
       "    .dataframe tbody tr th {\n",
       "        vertical-align: top;\n",
       "    }\n",
       "\n",
       "    .dataframe thead th {\n",
       "        text-align: right;\n",
       "    }\n",
       "</style>\n",
       "<table border=\"1\" class=\"dataframe\">\n",
       "  <thead>\n",
       "    <tr style=\"text-align: right;\">\n",
       "      <th></th>\n",
       "      <th></th>\n",
       "      <th>0</th>\n",
       "    </tr>\n",
       "    <tr>\n",
       "      <th>student</th>\n",
       "      <th>subject</th>\n",
       "      <th></th>\n",
       "    </tr>\n",
       "  </thead>\n",
       "  <tbody>\n",
       "    <tr>\n",
       "      <th rowspan=\"2\" valign=\"top\">John</th>\n",
       "      <th>Math</th>\n",
       "      <td>0.871924</td>\n",
       "    </tr>\n",
       "    <tr>\n",
       "      <th>Chem</th>\n",
       "      <td>-1.090800</td>\n",
       "    </tr>\n",
       "    <tr>\n",
       "      <th rowspan=\"2\" valign=\"top\">Max</th>\n",
       "      <th>Math</th>\n",
       "      <td>-1.205216</td>\n",
       "    </tr>\n",
       "    <tr>\n",
       "      <th>Chem</th>\n",
       "      <td>-0.046281</td>\n",
       "    </tr>\n",
       "  </tbody>\n",
       "</table>\n",
       "</div>"
      ],
      "text/plain": [
       "                        0\n",
       "student subject          \n",
       "John    Math     0.871924\n",
       "        Chem    -1.090800\n",
       "Max     Math    -1.205216\n",
       "        Chem    -0.046281"
      ]
     },
     "execution_count": 11,
     "metadata": {},
     "output_type": "execute_result"
    }
   ],
   "source": [
    "import pandas as pd\n",
    "import numpy as np\n",
    "arrays = [['John', 'John', 'Max', 'Max'], ['Math', 'Chem', 'Math', 'Chem']]\n",
    "index = pd.MultiIndex.from_arrays(arrays, names=('student', 'subject'))\n",
    "df = pd.DataFrame(np.random.randn(4), index=index)\n",
    "\n",
    "df"
=======
    "# Select"
>>>>>>> cb7e429a6c09207e3b27de1e2d5d65b1f4cdfc52
   ]
  },
  {
   "cell_type": "code",
   "execution_count": 7,
   "metadata": {},
   "outputs": [
    {
     "name": "stdout",
     "output_type": "stream",
     "text": [
      "   X  Y\n",
      "0  A  1\n",
      "1  B  4\n",
      "2  A  3\n",
      "3  D  2\n"
     ]
    }
   ],
   "source": [
    "df = pd.DataFrame({'X': ['A', 'B', 'A', 'D'], 'Y': [1, 4, 3, 2]})\n",
    "print(df)"
   ]
  },
  {
   "cell_type": "markdown",
   "metadata": {},
   "source": [
    "## Filter\n",
    "\n",
    "1. Booleanで各行についてTrue/FalseのSeriesをつくる"
   ]
  },
  {
   "cell_type": "markdown",
   "metadata": {},
   "source": [
    "# Edit"
   ]
  },
  {
   "cell_type": "markdown",
   "metadata": {},
   "source": [
    "## apply() function"
   ]
  },
  {
   "cell_type": "markdown",
   "metadata": {},
   "source": [
    "# I/O"
   ]
  },
  {
   "cell_type": "markdown",
   "metadata": {},
   "source": [
    "## Read"
   ]
  },
  {
   "cell_type": "markdown",
   "metadata": {},
   "source": [
    "## Write"
   ]
  }
 ],
 "metadata": {
  "kernelspec": {
   "display_name": "Python 3",
   "language": "python",
   "name": "python3"
  },
  "language_info": {
   "codemirror_mode": {
    "name": "ipython",
    "version": 3
   },
   "file_extension": ".py",
   "mimetype": "text/x-python",
   "name": "python",
   "nbconvert_exporter": "python",
   "pygments_lexer": "ipython3",
   "version": "3.8.5"
  }
 },
 "nbformat": 4,
 "nbformat_minor": 4
}
