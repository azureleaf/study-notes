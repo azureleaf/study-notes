{
 "cells": [
  {
   "cell_type": "code",
   "execution_count": 3,
   "metadata": {},
   "outputs": [
    {
     "name": "stdout",
     "output_type": "stream",
     "text": [
      "Defaulting to user installation because normal site-packages is not writeable\n",
      "Collecting pandas\n",
      "  Downloading pandas-1.1.2-cp36-cp36m-manylinux1_x86_64.whl (10.5 MB)\n",
      "\u001b[K     |████████████████████████████████| 10.5 MB 2.4 MB/s eta 0:00:01    |▊                               | 225 kB 2.4 MB/s eta 0:00:05\n",
      "\u001b[?25hRequirement already satisfied: pytz>=2017.2 in /usr/lib/python3/dist-packages (from pandas) (2018.3)\n",
      "Collecting python-dateutil>=2.7.3\n",
      "  Using cached python_dateutil-2.8.1-py2.py3-none-any.whl (227 kB)\n",
      "Collecting numpy>=1.15.4\n",
      "  Downloading numpy-1.19.2-cp36-cp36m-manylinux2010_x86_64.whl (14.5 MB)\n",
      "\u001b[K     |████████████████████████████████| 14.5 MB 45.7 MB/s eta 0:00:01\n",
      "\u001b[?25hRequirement already satisfied: six>=1.5 in /home/akb/.local/lib/python3.6/site-packages (from python-dateutil>=2.7.3->pandas) (1.14.0)\n",
      "Installing collected packages: python-dateutil, numpy, pandas\n",
      "Successfully installed numpy-1.19.2 pandas-1.1.2 python-dateutil-2.8.1\n"
     ]
    }
   ],
   "source": [
    "import sys\n",
    "!{sys.executable} -m pip install pandas"
   ]
  },
  {
   "cell_type": "markdown",
   "metadata": {},
   "source": [
    "# Create"
   ]
  },
  {
   "cell_type": "code",
   "execution_count": 12,
   "metadata": {},
   "outputs": [
    {
     "name": "stdout",
     "output_type": "stream",
     "text": [
      "  country  capital\n",
      "0   japan    tokyo\n",
      "1   china  beijing\n",
      "2   korea    korea \n",
      "\n",
      "  country  capital\n",
      "0   japan    tokyo\n",
      "1   china  beijing\n",
      "2   korea    seoul \n",
      "\n",
      "japan      tokyo\n",
      "china    beijing\n",
      "korea      seoul\n",
      "dtype: object \n",
      "\n"
     ]
    }
   ],
   "source": [
    "import pandas as pd\n",
    "\n",
    "# dict to df\n",
    "df1 = pd.DataFrame({'country': ['japan', 'china', 'korea', ], 'capital': [\"tokyo\", \"beijing\", \"korea\"]})\n",
    "print(df1, \"\\n\")\n",
    "\n",
    "# matrix to df\n",
    "my_arr = [[\"japan\", \"tokyo\"], [\"china\", \"beijing\"], [\"korea\", \"seoul\"]]\n",
    "df2 = pd.DataFrame(my_arr, columns=[\"country\", \"capital\"])\n",
    "print(df2, \"\\n\")\n",
    "\n",
    "# series to df\n",
    "my_dict = { \"japan\": \"tokyo\", \"china\": \"beijing\", \"korea\": \"seoul\" }\n",
    "ser = pd.Series(my_dict)\n",
    "print(ser, \"\\n\")\n",
    "\n"
   ]
  },
  {
   "cell_type": "markdown",
   "metadata": {},
   "source": [
    "# Group"
   ]
  },
  {
   "cell_type": "code",
   "execution_count": 2,
   "metadata": {},
   "outputs": [
    {
     "name": "stdout",
     "output_type": "stream",
     "text": [
      "\n",
      "Original DF:\n",
      "   X  Y\n",
      "0  A  1\n",
      "1  B  4\n",
      "2  A  3\n",
      "3  B  2\n",
      "\n",
      "Sum:\n",
      "   Y\n",
      "X   \n",
      "A  4\n",
      "B  6\n",
      "\n",
      "Group A:\n",
      "   X  Y\n",
      "0  A  1\n",
      "2  A  3\n",
      "\n",
      "Group B:\n",
      "   X  Y\n",
      "1  B  4\n",
      "3  B  2\n"
     ]
    }
   ],
   "source": [
    "import pandas as pd\n",
    "\n",
    "df = pd.DataFrame({'X': ['A', 'B', 'A', 'B'], 'Y': [1, 4, 3, 2]})\n",
    "print(\"\\nOriginal DF:\")\n",
    "print(df)\n",
    "\n",
    "grouped = df.groupby('X')\n",
    "\n",
    "print(\"\\nSum:\")\n",
    "print(grouped.sum())\n",
    "\n",
    "# iteration\n",
    "for name, group in grouped:\n",
    "    print(\"\\nGroup\", name + \":\")\n",
    "    print(group)"
   ]
  },
  {
   "cell_type": "markdown",
   "metadata": {},
   "source": [
    "# Select"
   ]
  },
  {
   "cell_type": "code",
   "execution_count": 7,
   "metadata": {},
   "outputs": [
    {
     "name": "stdout",
     "output_type": "stream",
     "text": [
      "   X  Y\n",
      "0  A  1\n",
      "1  B  4\n",
      "2  A  3\n",
      "3  D  2\n"
     ]
    }
   ],
   "source": [
    "df = pd.DataFrame({'X': ['A', 'B', 'A', 'D'], 'Y': [1, 4, 3, 2]})\n",
    "print(df)"
   ]
  },
  {
   "cell_type": "markdown",
   "metadata": {},
   "source": [
    "## Filter"
   ]
  }
 ],
 "metadata": {
  "kernelspec": {
   "display_name": "Python 3",
   "language": "python",
   "name": "python3"
  },
  "language_info": {
   "codemirror_mode": {
    "name": "ipython",
    "version": 3
   },
   "file_extension": ".py",
   "mimetype": "text/x-python",
   "name": "python",
   "nbconvert_exporter": "python",
   "pygments_lexer": "ipython3",
   "version": "3.8.5"
  }
 },
 "nbformat": 4,
 "nbformat_minor": 4
}
